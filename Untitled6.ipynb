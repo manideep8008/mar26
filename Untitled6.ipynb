{
 "cells": [
  {
   "cell_type": "markdown",
   "id": "7ab809b7",
   "metadata": {},
   "source": [
    "Ans1\n",
    "\n",
    "Simple linear regression involves only one independent variable and one dependent variable. It assumes that there is a linear relationship between the independent variable and the dependent variable. \n",
    "\n",
    "multiple linear regression involves more than one independent variable and one dependent variable.\n",
    "\n",
    "Example of Simple Linear Regression:\n",
    "Suppose we want to study the relationship between the number of hours students study per week and their exam scores. \n",
    "\n",
    "Example of Multiple Linear Regression:\n",
    "Suppose we want to study the relationship between the price of a house and its characteristics, such as its size, number of bedrooms, number of bathrooms, and location"
   ]
  },
  {
   "cell_type": "markdown",
   "id": "0e0e1d8f",
   "metadata": {},
   "source": [
    "Ans2\n",
    "\n",
    "Linear regression is a statistical technique used to model the relationship between a dependent variable and one or more\n",
    "\n",
    "independent variables.\n",
    "\n",
    "Linearity,Independence,Normality(Normal distribution)\n",
    "\n",
    "To check whether these assumptions hold in a given dataset\n",
    "\n",
    "Scatterplots\n"
   ]
  },
  {
   "cell_type": "markdown",
   "id": "006cd21d",
   "metadata": {},
   "source": [
    "Ans3:\n",
    "\n",
    "In a linear regression model, the slope and intercept are two important parameters that describe the relationship between the independent variable(s) and the dependent variable. The intercept represents the value of the dependent variable when all independent variables are equal to zero. The slope represents the change in the dependent variable for a one-unit increase in the independent variable(s)."
   ]
  },
  {
   "cell_type": "markdown",
   "id": "9cb18c89",
   "metadata": {},
   "source": [
    "Ans4:\n",
    "Gradient descent is an iterative optimization algorithm that is commonly used in machine learning to find the optimal values of the parameters of a model that minimize the cost function. The cost function is a measure of how well the model fits the training data, and the goal of gradient descent is to find the values of the model parameters that minimize this cost function."
   ]
  },
  {
   "cell_type": "markdown",
   "id": "c9355d2e",
   "metadata": {},
   "source": [
    "Multiple linear regression is a statistical technique used to model the relationship between a dependent variable and multiple independent variables. It is an extension of simple linear regression, which models the relationship between a dependent variable and a single independent variable.\n",
    "\n",
    "The multiple linear regression model can be represented as:\n",
    "\n",
    "y = β0 + β1x1 + β2x2 + ... + βnxn "
   ]
  },
  {
   "cell_type": "markdown",
   "id": "3c0c55e7",
   "metadata": {},
   "source": [
    "Ans5:\n",
    "\n",
    "Multicollinearity in multiple linear regression occurs when two or more independent variables in a model are highly correlated with each other. This can cause problems because it can be difficult to determine the independent effects of each variable on the dependent variable, and the coefficients of the correlated variables can become unstable and difficult to interpret."
   ]
  },
  {
   "cell_type": "markdown",
   "id": "b48cb13e",
   "metadata": {},
   "source": [
    "Ans6:\n",
    "\n",
    "Polynomial regression is a type of regression analysis in which the relationship between the dependent variable and the independent variable(s) is modeled as an nth-degree polynomial function. The polynomial function can then be used to make predictions for new data points.\n",
    "\n",
    "The polynomial regression model can be represented as:\n",
    "\n",
    "y = β0 + β1x + β2x^2 + β3x^3 + ... + βnx^n\n",
    "\n",
    "The main difference between polynomial regression and linear regression is that in polynomial regression, we include higher-order terms of the independent variable(s) in the model, while in linear regression, we only include a first-order term (i.e., a straight line).\n",
    "    "
   ]
  },
  {
   "cell_type": "markdown",
   "id": "868f6f90",
   "metadata": {},
   "source": [
    "Ans7\n",
    "\n",
    "Advantages of polynomial regression compared to linear regression:\n",
    "\n",
    "Can capture non-linear relationships between the dependent and independent variables.\n",
    "\n",
    "Can fit a wider range of data patterns compared to linear regression.\n",
    "\n",
    "Can provide a higher degree of accuracy in fitting the data, especially when the relationship between the dependent and \n",
    "independent variables is complex.\n",
    "\n",
    "Can provide a more flexible model that can be adjusted to better fit the data.\n",
    "\n",
    "Disadvantages of polynomial regression compared to linear regression:\n",
    "\n",
    "Can lead to overfitting of the data if the degree of the polynomial is too high, resulting in poor generalization to new data.\n",
    "\n",
    "Can be more complex and difficult to interpret compared to linear regression.\n",
    "\n",
    "Can be computationally more expensive compared to linear regression.\n",
    "\n",
    "Polynomial regression is preferred when:\n",
    "\n",
    "\n",
    "There is a non-linear relationship between the dependent and independent variables.\n",
    "\n",
    "The relationship between the variables is more complex than a straight line, and other types of regression analysis are not able \n",
    "to capture the pattern of the data.\n",
    "\n",
    "The data has a large variance or noise, and a flexible model is needed to account for the variability.\n",
    "\n",
    "The sample size is large enough to prevent overfitting, or cross-validation techniques are used to prevent overfitting.\n",
    "\n",
    "In summary, polynomial regression can be a powerful tool for modeling non-linear relationships between the dependent and \n",
    "independent variables, but it requires careful consideration of the degree of the polynomial and the risk of overfitting. Linear \n",
    "regression is a simpler and more interpretable model that is useful when the relationship between the variables is expected to \n",
    "be linear.\n",
    "\n",
    "\n",
    "\n",
    "\n"
   ]
  }
 ],
 "metadata": {
  "kernelspec": {
   "display_name": "Python 3 (ipykernel)",
   "language": "python",
   "name": "python3"
  },
  "language_info": {
   "codemirror_mode": {
    "name": "ipython",
    "version": 3
   },
   "file_extension": ".py",
   "mimetype": "text/x-python",
   "name": "python",
   "nbconvert_exporter": "python",
   "pygments_lexer": "ipython3",
   "version": "3.9.13"
  }
 },
 "nbformat": 4,
 "nbformat_minor": 5
}
